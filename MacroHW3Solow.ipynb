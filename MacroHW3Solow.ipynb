{
 "cells": [
  {
   "cell_type": "code",
   "execution_count": null,
   "metadata": {},
   "outputs": [],
   "source": [
    "import numpy as np\n",
    "import pandas as pd\n",
    "import statsmodels.formula.api as smf\n",
    "import matplotlib.pyplot as plt\n",
    "import time\n",
    "import warnings\n",
    "warnings.filterwarnings(\"ignore\")"
   ]
  },
  {
   "cell_type": "code",
   "execution_count": 2,
   "metadata": {},
   "outputs": [
    {
     "name": "stdout",
     "output_type": "stream",
     "text": [
      "key 'CentralAfr. Rep.' not found\n",
      "key 'Congo, Peop. Rep.' not found\n",
      "key 'Ivory Cost' not found\n",
      "key 'Somalia' not found\n",
      "key 'S. Africa' not found\n",
      "key 'Tanzania' not found\n",
      "key 'Zaire' not found\n",
      "key 'Burma' not found\n",
      "key 'Hong Kong' not found\n",
      "key 'Korea, Rep. of' not found\n",
      "key 'Syrian Arab Rep.' not found\n",
      "key 'Germany, Fed. Rep.' not found\n",
      "key 'Dominican Rep.' not found\n",
      "key 'Trinidad & Tobago' not found\n",
      "key 'Bolivia' not found\n",
      "key 'Venezuela' not found\n",
      "key 'Papua New Guinea' not found\n"
     ]
    }
   ],
   "source": [
    "pwt = pd.read_stata('data/pwt100.dta')\n",
    "mrw = pd.read_stata('data/MRW1992.dta')\n",
    "\n",
    "mrw_countries = mrw['country']\n",
    "pwt.set_index(['country', 'year'], inplace=True)\n",
    "not_found = []\n",
    "not_found_PWT = ['Central African Republic', 'Congo', \"Côte d'Ivoire\",\n",
    "                 'South Africa', 'U.R. of Tanzania: Mainland',\n",
    "                 'D.R. of the Congo', 'Myanmar', 'China, Hong Kong SAR',\n",
    "                 'Republic of Korea', 'Syrian Arab Republic', 'Germany',\n",
    "                 'Dominican Republic', 'Trinidad and Tobago',\n",
    "                 'Bolivia (Plurinational State of)', 'Venezuela (Bolivarian Republic of)']\n",
    "\n",
    "for i, country in enumerate(mrw_countries[mrw['N']==1]):\n",
    "    try:\n",
    "        temp = np.log(np.mean(pwt.loc[country]['csh_i']))\n",
    "    except Exception as e:\n",
    "        print('key %s not found' % e)\n",
    "        not_found.append(country)"
   ]
  },
  {
   "cell_type": "code",
   "execution_count": 3,
   "metadata": {},
   "outputs": [
    {
     "name": "stdout",
     "output_type": "stream",
     "text": [
      "                   y_17       y_85         s     δ_n_g       s_h\n",
      "Algeria       10.673525  11.235086 -1.145871 -2.514745  1.838571\n",
      "Angola         9.602782   8.652294 -1.065619 -2.503920  0.974068\n",
      "Benin          9.050662   8.656473 -1.878282 -2.508623  1.342471\n",
      "Botswana      10.601112   9.596834 -1.302101 -2.517723  2.186768\n",
      "Burkina Faso   8.637341   7.842568 -1.847810 -2.640430  0.072916\n"
     ]
    }
   ],
   "source": [
    "mrw_pwt_countries = [n for n in mrw_countries[mrw['N']==1].tolist() if n not in not_found]\n",
    "mrw_pwt_countries = mrw_pwt_countries + not_found_PWT\n",
    "\n",
    "# Construct replication dataset based on observations for years 1985-2017\n",
    "s = np.zeros(len(mrw_pwt_countries))\n",
    "n = np.zeros(len(mrw_pwt_countries))\n",
    "h = np.zeros(len(mrw_pwt_countries))\n",
    "y_85 = np.zeros(len(mrw_pwt_countries))\n",
    "y_17 = np.zeros(len(mrw_pwt_countries))\n",
    "\n",
    "for i, country in enumerate(mrw_pwt_countries):\n",
    "    s[i] = np.log(np.mean(pwt.loc[country]['csh_i'][35:]))\n",
    "    n[i] = np.log(0.05+np.mean(pwt.loc[country]['emp'][35:].pct_change()))\n",
    "    h[i] = np.mean(pwt.loc[country]['hc'][35:])\n",
    "    y_85[i] = np.log(pwt.loc[country, 1985]['rgdpo']/pwt.loc[country, 1985]['emp'])\n",
    "    y_17[i] = np.log(pwt.loc[country, 2017]['rgdpo']/pwt.loc[country, 2017]['emp'])\n",
    "\n",
    "d = {'y_17': y_17, 'y_85': y_85, 's': s, 'δ_n_g': n, 's_h': np.log(np.log(h)*10)}\n",
    "mrw_rep = pd.DataFrame(data=d, index=mrw_pwt_countries)\n",
    "print(mrw_rep.head())"
   ]
  },
  {
   "cell_type": "code",
   "execution_count": 4,
   "metadata": {},
   "outputs": [
    {
     "name": "stdout",
     "output_type": "stream",
     "text": [
      "Task1 Unrestricted Estimation\n",
      "                            OLS Regression Results                            \n",
      "==============================================================================\n",
      "Dep. Variable:                   y_17   R-squared:                       0.702\n",
      "Model:                            OLS   Adj. R-squared:                  0.693\n",
      "Method:                 Least Squares   F-statistic:                     71.61\n",
      "Date:                Thu, 01 Dec 2022   Prob (F-statistic):           7.21e-24\n",
      "Time:                        18:44:59   Log-Likelihood:                -95.617\n",
      "No. Observations:                  95   AIC:                             199.2\n",
      "Df Residuals:                      91   BIC:                             209.4\n",
      "Df Model:                           3                                         \n",
      "Covariance Type:            nonrobust                                         \n",
      "==============================================================================\n",
      "                 coef    std err          t      P>|t|      [0.025      0.975]\n",
      "------------------------------------------------------------------------------\n",
      "Intercept      4.2195      1.539      2.743      0.007       1.163       7.276\n",
      "s              0.9181      0.235      3.915      0.000       0.452       1.384\n",
      "δ_n_g         -1.9200      0.574     -3.343      0.001      -3.061      -0.779\n",
      "s_h            1.1928      0.157      7.607      0.000       0.881       1.504\n",
      "==============================================================================\n",
      "Omnibus:                       38.592   Durbin-Watson:                   1.649\n",
      "Prob(Omnibus):                  0.000   Jarque-Bera (JB):              121.508\n",
      "Skew:                          -1.340   Prob(JB):                     4.12e-27\n",
      "Kurtosis:                       7.849   Cond. No.                         88.9\n",
      "==============================================================================\n",
      "\n",
      "Notes:\n",
      "[1] Standard Errors assume that the covariance matrix of the errors is correctly specified.\n"
     ]
    }
   ],
   "source": [
    "print('Task1 Unrestricted Estimation')\n",
    "mrw_unrestricted = smf.ols('y_17 ~ s + δ_n_g + s_h', data=mrw_rep).fit()\n",
    "print(mrw_unrestricted.summary())"
   ]
  },
  {
   "cell_type": "code",
   "execution_count": 5,
   "metadata": {},
   "outputs": [
    {
     "name": "stdout",
     "output_type": "stream",
     "text": [
      "Task2 Restricted Estimation\n",
      "                            OLS Regression Results                            \n",
      "==============================================================================\n",
      "Dep. Variable:                   y_17   R-squared:                       0.702\n",
      "Model:                            OLS   Adj. R-squared:                  0.696\n",
      "Method:                 Least Squares   F-statistic:                     108.5\n",
      "Date:                Thu, 01 Dec 2022   Prob (F-statistic):           6.34e-25\n",
      "Time:                        18:45:01   Log-Likelihood:                -95.658\n",
      "No. Observations:                  95   AIC:                             197.3\n",
      "Df Residuals:                      92   BIC:                             205.0\n",
      "Df Model:                           2                                         \n",
      "Covariance Type:            nonrobust                                         \n",
      "================================================================================\n",
      "                   coef    std err          t      P>|t|      [0.025      0.975]\n",
      "--------------------------------------------------------------------------------\n",
      "Intercept        3.8147      0.537      7.106      0.000       2.749       4.881\n",
      "restricted       0.8987      0.223      4.029      0.000       0.456       1.342\n",
      "restricted_h     1.1753      0.143      8.212      0.000       0.891       1.460\n",
      "==============================================================================\n",
      "Omnibus:                       37.896   Durbin-Watson:                   1.668\n",
      "Prob(Omnibus):                  0.000   Jarque-Bera (JB):              116.973\n",
      "Skew:                          -1.321   Prob(JB):                     3.98e-26\n",
      "Kurtosis:                       7.751   Cond. No.                         39.1\n",
      "==============================================================================\n",
      "\n",
      "Notes:\n",
      "[1] Standard Errors assume that the covariance matrix of the errors is correctly specified.\n",
      "\n",
      "Implied alpha = 0.2923658283698702\n",
      "Implied beta = 0.3823286767004429\n",
      "Test of restriction p-value = 0.7793656810044143\n"
     ]
    }
   ],
   "source": [
    "print('Task2 Restricted Estimation')\n",
    "mrw_rep['restricted'] = mrw_rep['s'] - mrw_rep['δ_n_g']\n",
    "mrw_rep['restricted_h'] = mrw_rep['s_h'] - mrw_rep['δ_n_g']\n",
    "mrw_restricted = smf.ols('y_17 ~ restricted + restricted_h', data=mrw_rep).fit()\n",
    "print(mrw_restricted.summary())\n",
    "\n",
    "# alpha_beta = ((mrw_restricted.params[1]+mrw_restricted.params[2])/\n",
    "#        (1+mrw_restricted.params[1]+mrw_restricted.params[2]))\n",
    "# print('\\nImplied alpha =', mrw_restricted.params[1] * (1-alpha_beta))\n",
    "# print('Implied beta =', mrw_restricted.params[2] * (1-alpha_beta))\n",
    "\n",
    "print('\\nImplied alpha =', mrw_restricted.params[1] / \n",
    "     (1+mrw_restricted.params[1]+mrw_restricted.params[2]))\n",
    "print('Implied beta =', mrw_restricted.params[2] / \n",
    "      (1+mrw_restricted.params[1]+mrw_restricted.params[2]))\n",
    "\n",
    "print('Test of restriction p-value =', mrw_unrestricted.compare_f_test(mrw_restricted)[1])"
   ]
  },
  {
   "cell_type": "code",
   "execution_count": 11,
   "metadata": {},
   "outputs": [
    {
     "name": "stdout",
     "output_type": "stream",
     "text": [
      "Task3 Convergence Estimation\n",
      "                            OLS Regression Results                            \n",
      "==============================================================================\n",
      "Dep. Variable:                y_17_85   R-squared:                       0.200\n",
      "Model:                            OLS   Adj. R-squared:                  0.165\n",
      "Method:                 Least Squares   F-statistic:                     5.639\n",
      "Date:                Thu, 01 Dec 2022   Prob (F-statistic):           0.000427\n",
      "Time:                        21:02:42   Log-Likelihood:                -81.212\n",
      "No. Observations:                  95   AIC:                             172.4\n",
      "Df Residuals:                      90   BIC:                             185.2\n",
      "Df Model:                           4                                         \n",
      "Covariance Type:            nonrobust                                         \n",
      "==============================================================================\n",
      "                 coef    std err          t      P>|t|      [0.025      0.975]\n",
      "------------------------------------------------------------------------------\n",
      "Intercept      0.7581      1.464      0.518      0.606      -2.150       3.666\n",
      "y_85          -0.4142      0.104     -3.993      0.000      -0.620      -0.208\n",
      "s              0.4658      0.218      2.138      0.035       0.033       0.899\n",
      "δ_n_g         -1.3327      0.507     -2.629      0.010      -2.340      -0.325\n",
      "s_h            0.5061      0.182      2.780      0.007       0.144       0.868\n",
      "==============================================================================\n",
      "Omnibus:                       88.768   Durbin-Watson:                   1.595\n",
      "Prob(Omnibus):                  0.000   Jarque-Bera (JB):             1176.200\n",
      "Skew:                          -2.820   Prob(JB):                    3.90e-256\n",
      "Kurtosis:                      19.289   Cond. No.                         261.\n",
      "==============================================================================\n",
      "\n",
      "Notes:\n",
      "[1] Standard Errors assume that the covariance matrix of the errors is correctly specified.\n",
      "\n",
      "Implied λ = 0.016714419122305445\n"
     ]
    },
    {
     "data": {
      "image/png": "[encoded data removed]",
      "text/plain": [
       "<Figure size 640x480 with 1 Axes>"
      ]
     },
     "metadata": {},
     "output_type": "display_data"
    }
   ],
   "source": [
    "print('Task3 Convergence Estimation')\n",
    "mrw_rep['y_17_85'] =  mrw_rep['y_17'] - mrw_rep['y_85'] \n",
    "mrw_convergence = smf.ols('y_17_85 ~ y_85 + s + δ_n_g + s_h', data=mrw_rep).fit()\n",
    "print(mrw_convergence.summary())\n",
    "print('\\nImplied λ =', np.log(1+mrw_convergence.params[1])/(-32))\n",
    "\n",
    "time.sleep(0.1)\n",
    "par = mrw_convergence.params\n",
    "plt.scatter(mrw_rep['y_85'],\n",
    "            100/25*(mrw_rep['y_17_85']\n",
    "                    - par[2]*(mrw_rep['s']-mrw_rep['s'].mean())\n",
    "                    - par[3]*(mrw_rep['δ_n_g']-mrw_rep['δ_n_g'].mean())\n",
    "                    - par[4]*(mrw_rep['s_h']-mrw_rep['s_h'].mean())))\n",
    "\n",
    "plt.title('Conditional on saving, population growth and human capital')\n",
    "plt.xlabel('Log output per working age adult: 1985')\n",
    "plt.ylabel('Growth rate: 1985-2017')\n",
    "\n",
    "plt.show()"
   ]
  }
 ],
 "metadata": {
  "kernelspec": {
   "display_name": "Python 3 (ipykernel)",
   "language": "python",
   "name": "python3"
  },
  "language_info": {
   "codemirror_mode": {
    "name": "ipython",
    "version": 3
   },
   "file_extension": ".py",
   "mimetype": "text/x-python",
   "name": "python",
   "nbconvert_exporter": "python",
   "pygments_lexer": "ipython3",
   "version": "3.9.6"
  }
 },
 "nbformat": 4,
 "nbformat_minor": 2
}
